{
 "cells": [
  {
   "cell_type": "code",
   "execution_count": 3,
   "metadata": {},
   "outputs": [
    {
     "ename": "HttpResponseError",
     "evalue": "(InvalidRequest) Invalid request.\nCode: InvalidRequest\nMessage: Invalid request.\nInner error: {\n    \"code\": \"InvalidManagedIdentity\",\n    \"message\": \"The managed identity configuration is invalid: Managed identity is not enabled for the current Form Recognizer account.\"\n}",
     "output_type": "error",
     "traceback": [
      "\u001b[1;31m---------------------------------------------------------------------------\u001b[0m",
      "\u001b[1;31mHttpResponseError\u001b[0m                         Traceback (most recent call last)",
      "\u001b[1;32mc:\\Users\\karel\\Documents\\Hackathon\\ChatBotSample-Docs\\Analizadores\\AnalizadorINE.ipynb Celda 1\u001b[0m line \u001b[0;36m2\n\u001b[0;32m     <a href='vscode-notebook-cell:/c%3A/Users/karel/Documents/Hackathon/ChatBotSample-Docs/Analizadores/AnalizadorINE.ipynb#W0sZmlsZQ%3D%3D?line=20'>21</a>\u001b[0m formUrl \u001b[39m=\u001b[39m \u001b[39m\"\u001b[39m\u001b[39mhttps://inedocs.blob.core.windows.net/?sv=2022-11-02&ss=bfqt&srt=c&sp=rwdlacupiytfx&se=2023-11-03T15:00:55Z&st=2023-11-03T07:00:55Z&spr=https&sig=3tacim\u001b[39m\u001b[39m%2F\u001b[39;00m\u001b[39mv7LLeMwFZTh\u001b[39m\u001b[39m%\u001b[39m\u001b[39m2B8l7m6hP\u001b[39m\u001b[39m%\u001b[39m\u001b[39m2Bd0eswxnPqzVVqZVk\u001b[39m\u001b[39m%\u001b[39m\u001b[39m3D\u001b[39m\u001b[39m\"\u001b[39m\n\u001b[0;32m     <a href='vscode-notebook-cell:/c%3A/Users/karel/Documents/Hackathon/ChatBotSample-Docs/Analizadores/AnalizadorINE.ipynb#W0sZmlsZQ%3D%3D?line=22'>23</a>\u001b[0m document_analysis_client \u001b[39m=\u001b[39m DocumentAnalysisClient(\n\u001b[0;32m     <a href='vscode-notebook-cell:/c%3A/Users/karel/Documents/Hackathon/ChatBotSample-Docs/Analizadores/AnalizadorINE.ipynb#W0sZmlsZQ%3D%3D?line=23'>24</a>\u001b[0m         endpoint\u001b[39m=\u001b[39mendpoint, credential\u001b[39m=\u001b[39mAzureKeyCredential(key)\n\u001b[0;32m     <a href='vscode-notebook-cell:/c%3A/Users/karel/Documents/Hackathon/ChatBotSample-Docs/Analizadores/AnalizadorINE.ipynb#W0sZmlsZQ%3D%3D?line=24'>25</a>\u001b[0m     )\n\u001b[1;32m---> <a href='vscode-notebook-cell:/c%3A/Users/karel/Documents/Hackathon/ChatBotSample-Docs/Analizadores/AnalizadorINE.ipynb#W0sZmlsZQ%3D%3D?line=26'>27</a>\u001b[0m poller \u001b[39m=\u001b[39m document_analysis_client\u001b[39m.\u001b[39;49mbegin_analyze_document_from_url(\u001b[39m\"\u001b[39;49m\u001b[39mprebuilt-idDocument\u001b[39;49m\u001b[39m\"\u001b[39;49m, formUrl)\n\u001b[0;32m     <a href='vscode-notebook-cell:/c%3A/Users/karel/Documents/Hackathon/ChatBotSample-Docs/Analizadores/AnalizadorINE.ipynb#W0sZmlsZQ%3D%3D?line=27'>28</a>\u001b[0m id_documents \u001b[39m=\u001b[39m poller\u001b[39m.\u001b[39mresult()\n\u001b[0;32m     <a href='vscode-notebook-cell:/c%3A/Users/karel/Documents/Hackathon/ChatBotSample-Docs/Analizadores/AnalizadorINE.ipynb#W0sZmlsZQ%3D%3D?line=29'>30</a>\u001b[0m \u001b[39mfor\u001b[39;00m idx, id_document \u001b[39min\u001b[39;00m \u001b[39menumerate\u001b[39m(id_documents\u001b[39m.\u001b[39mdocuments):\n",
      "File \u001b[1;32m~\\AppData\\Local\\Packages\\PythonSoftwareFoundation.Python.3.9_qbz5n2kfra8p0\\LocalCache\\local-packages\\Python39\\site-packages\\azure\\core\\tracing\\decorator.py:78\u001b[0m, in \u001b[0;36mdistributed_trace.<locals>.decorator.<locals>.wrapper_use_tracer\u001b[1;34m(*args, **kwargs)\u001b[0m\n\u001b[0;32m     76\u001b[0m span_impl_type \u001b[39m=\u001b[39m settings\u001b[39m.\u001b[39mtracing_implementation()\n\u001b[0;32m     77\u001b[0m \u001b[39mif\u001b[39;00m span_impl_type \u001b[39mis\u001b[39;00m \u001b[39mNone\u001b[39;00m:\n\u001b[1;32m---> 78\u001b[0m     \u001b[39mreturn\u001b[39;00m func(\u001b[39m*\u001b[39margs, \u001b[39m*\u001b[39m\u001b[39m*\u001b[39mkwargs)\n\u001b[0;32m     80\u001b[0m \u001b[39m# Merge span is parameter is set, but only if no explicit parent are passed\u001b[39;00m\n\u001b[0;32m     81\u001b[0m \u001b[39mif\u001b[39;00m merge_span \u001b[39mand\u001b[39;00m \u001b[39mnot\u001b[39;00m passed_in_parent:\n",
      "File \u001b[1;32m~\\AppData\\Local\\Packages\\PythonSoftwareFoundation.Python.3.9_qbz5n2kfra8p0\\LocalCache\\local-packages\\Python39\\site-packages\\azure\\ai\\formrecognizer\\_document_analysis_client.py:192\u001b[0m, in \u001b[0;36mDocumentAnalysisClient.begin_analyze_document_from_url\u001b[1;34m(self, model_id, document_url, **kwargs)\u001b[0m\n\u001b[0;32m    186\u001b[0m \u001b[39mif\u001b[39;00m \u001b[39mnot\u001b[39;00m \u001b[39misinstance\u001b[39m(document_url, \u001b[39mstr\u001b[39m):\n\u001b[0;32m    187\u001b[0m     \u001b[39mraise\u001b[39;00m \u001b[39mValueError\u001b[39;00m(\n\u001b[0;32m    188\u001b[0m         \u001b[39m\"\u001b[39m\u001b[39m'\u001b[39m\u001b[39mdocument_url\u001b[39m\u001b[39m'\u001b[39m\u001b[39m needs to be of type \u001b[39m\u001b[39m'\u001b[39m\u001b[39mstr\u001b[39m\u001b[39m'\u001b[39m\u001b[39m. \u001b[39m\u001b[39m\"\u001b[39m\n\u001b[0;32m    189\u001b[0m         \u001b[39m\"\u001b[39m\u001b[39mPlease see `begin_analyze_document()` to pass a byte stream.\u001b[39m\u001b[39m\"\u001b[39m\n\u001b[0;32m    190\u001b[0m     )\n\u001b[1;32m--> 192\u001b[0m \u001b[39mreturn\u001b[39;00m \u001b[39mself\u001b[39m\u001b[39m.\u001b[39m_client\u001b[39m.\u001b[39mbegin_analyze_document(  \u001b[39m# type: ignore\u001b[39;00m\n\u001b[0;32m    193\u001b[0m     model_id\u001b[39m=\u001b[39mmodel_id,\n\u001b[0;32m    194\u001b[0m     analyze_request\u001b[39m=\u001b[39m{\u001b[39m\"\u001b[39m\u001b[39murlSource\u001b[39m\u001b[39m\"\u001b[39m: document_url},  \u001b[39m# type: ignore\u001b[39;00m\n\u001b[0;32m    195\u001b[0m     string_index_type\u001b[39m=\u001b[39m\u001b[39m\"\u001b[39m\u001b[39municodeCodePoint\u001b[39m\u001b[39m\"\u001b[39m,\n\u001b[0;32m    196\u001b[0m     \u001b[39mcls\u001b[39m\u001b[39m=\u001b[39m\u001b[39mcls\u001b[39m,\n\u001b[0;32m    197\u001b[0m     \u001b[39m*\u001b[39m\u001b[39m*\u001b[39mkwargs\n\u001b[0;32m    198\u001b[0m )\n",
      "File \u001b[1;32m~\\AppData\\Local\\Packages\\PythonSoftwareFoundation.Python.3.9_qbz5n2kfra8p0\\LocalCache\\local-packages\\Python39\\site-packages\\azure\\ai\\formrecognizer\\_generated\\_operations_mixin.py:170\u001b[0m, in \u001b[0;36mFormRecognizerClientOperationsMixin.begin_analyze_document\u001b[1;34m(self, model_id, pages, locale, string_index_type, analyze_request, **kwargs)\u001b[0m\n\u001b[0;32m    168\u001b[0m mixin_instance\u001b[39m.\u001b[39m_serialize\u001b[39m.\u001b[39mclient_side_validation \u001b[39m=\u001b[39m \u001b[39mFalse\u001b[39;00m\n\u001b[0;32m    169\u001b[0m mixin_instance\u001b[39m.\u001b[39m_deserialize \u001b[39m=\u001b[39m Deserializer(\u001b[39mself\u001b[39m\u001b[39m.\u001b[39m_models_dict(api_version))\n\u001b[1;32m--> 170\u001b[0m \u001b[39mreturn\u001b[39;00m mixin_instance\u001b[39m.\u001b[39mbegin_analyze_document(model_id, pages, locale, string_index_type, analyze_request, \u001b[39m*\u001b[39m\u001b[39m*\u001b[39mkwargs)\n",
      "File \u001b[1;32m~\\AppData\\Local\\Packages\\PythonSoftwareFoundation.Python.3.9_qbz5n2kfra8p0\\LocalCache\\local-packages\\Python39\\site-packages\\azure\\core\\tracing\\decorator.py:78\u001b[0m, in \u001b[0;36mdistributed_trace.<locals>.decorator.<locals>.wrapper_use_tracer\u001b[1;34m(*args, **kwargs)\u001b[0m\n\u001b[0;32m     76\u001b[0m span_impl_type \u001b[39m=\u001b[39m settings\u001b[39m.\u001b[39mtracing_implementation()\n\u001b[0;32m     77\u001b[0m \u001b[39mif\u001b[39;00m span_impl_type \u001b[39mis\u001b[39;00m \u001b[39mNone\u001b[39;00m:\n\u001b[1;32m---> 78\u001b[0m     \u001b[39mreturn\u001b[39;00m func(\u001b[39m*\u001b[39margs, \u001b[39m*\u001b[39m\u001b[39m*\u001b[39mkwargs)\n\u001b[0;32m     80\u001b[0m \u001b[39m# Merge span is parameter is set, but only if no explicit parent are passed\u001b[39;00m\n\u001b[0;32m     81\u001b[0m \u001b[39mif\u001b[39;00m merge_span \u001b[39mand\u001b[39;00m \u001b[39mnot\u001b[39;00m passed_in_parent:\n",
      "File \u001b[1;32m~\\AppData\\Local\\Packages\\PythonSoftwareFoundation.Python.3.9_qbz5n2kfra8p0\\LocalCache\\local-packages\\Python39\\site-packages\\azure\\ai\\formrecognizer\\_generated\\v2022_08_31\\operations\\_form_recognizer_client_operations.py:576\u001b[0m, in \u001b[0;36mFormRecognizerClientOperationsMixin.begin_analyze_document\u001b[1;34m(self, model_id, pages, locale, string_index_type, analyze_request, content_type, **kwargs)\u001b[0m\n\u001b[0;32m    574\u001b[0m cont_token \u001b[39m=\u001b[39m kwargs\u001b[39m.\u001b[39mpop(\u001b[39m'\u001b[39m\u001b[39mcontinuation_token\u001b[39m\u001b[39m'\u001b[39m, \u001b[39mNone\u001b[39;00m)  \u001b[39m# type: Optional[str]\u001b[39;00m\n\u001b[0;32m    575\u001b[0m \u001b[39mif\u001b[39;00m cont_token \u001b[39mis\u001b[39;00m \u001b[39mNone\u001b[39;00m:\n\u001b[1;32m--> 576\u001b[0m     raw_result \u001b[39m=\u001b[39m \u001b[39mself\u001b[39m\u001b[39m.\u001b[39m_analyze_document_initial(  \u001b[39m# type: ignore\u001b[39;00m\n\u001b[0;32m    577\u001b[0m         model_id\u001b[39m=\u001b[39mmodel_id,\n\u001b[0;32m    578\u001b[0m         pages\u001b[39m=\u001b[39mpages,\n\u001b[0;32m    579\u001b[0m         locale\u001b[39m=\u001b[39mlocale,\n\u001b[0;32m    580\u001b[0m         string_index_type\u001b[39m=\u001b[39mstring_index_type,\n\u001b[0;32m    581\u001b[0m         analyze_request\u001b[39m=\u001b[39manalyze_request,\n\u001b[0;32m    582\u001b[0m         content_type\u001b[39m=\u001b[39mcontent_type,\n\u001b[0;32m    583\u001b[0m         api_version\u001b[39m=\u001b[39mapi_version,\n\u001b[0;32m    584\u001b[0m         \u001b[39mcls\u001b[39m\u001b[39m=\u001b[39m\u001b[39mlambda\u001b[39;00m x,y,z: x,\n\u001b[0;32m    585\u001b[0m         headers\u001b[39m=\u001b[39m_headers,\n\u001b[0;32m    586\u001b[0m         params\u001b[39m=\u001b[39m_params,\n\u001b[0;32m    587\u001b[0m         \u001b[39m*\u001b[39m\u001b[39m*\u001b[39mkwargs\n\u001b[0;32m    588\u001b[0m     )\n\u001b[0;32m    589\u001b[0m kwargs\u001b[39m.\u001b[39mpop(\u001b[39m'\u001b[39m\u001b[39merror_map\u001b[39m\u001b[39m'\u001b[39m, \u001b[39mNone\u001b[39;00m)\n\u001b[0;32m    591\u001b[0m \u001b[39mdef\u001b[39;00m \u001b[39mget_long_running_output\u001b[39m(pipeline_response):\n",
      "File \u001b[1;32m~\\AppData\\Local\\Packages\\PythonSoftwareFoundation.Python.3.9_qbz5n2kfra8p0\\LocalCache\\local-packages\\Python39\\site-packages\\azure\\ai\\formrecognizer\\_generated\\v2022_08_31\\operations\\_form_recognizer_client_operations.py:508\u001b[0m, in \u001b[0;36mFormRecognizerClientOperationsMixin._analyze_document_initial\u001b[1;34m(self, model_id, pages, locale, string_index_type, analyze_request, content_type, **kwargs)\u001b[0m\n\u001b[0;32m    506\u001b[0m \u001b[39mif\u001b[39;00m response\u001b[39m.\u001b[39mstatus_code \u001b[39mnot\u001b[39;00m \u001b[39min\u001b[39;00m [\u001b[39m202\u001b[39m]:\n\u001b[0;32m    507\u001b[0m     map_error(status_code\u001b[39m=\u001b[39mresponse\u001b[39m.\u001b[39mstatus_code, response\u001b[39m=\u001b[39mresponse, error_map\u001b[39m=\u001b[39merror_map)\n\u001b[1;32m--> 508\u001b[0m     \u001b[39mraise\u001b[39;00m HttpResponseError(response\u001b[39m=\u001b[39mresponse)\n\u001b[0;32m    510\u001b[0m response_headers \u001b[39m=\u001b[39m {}\n\u001b[0;32m    511\u001b[0m response_headers[\u001b[39m'\u001b[39m\u001b[39mOperation-Location\u001b[39m\u001b[39m'\u001b[39m]\u001b[39m=\u001b[39m\u001b[39mself\u001b[39m\u001b[39m.\u001b[39m_deserialize(\u001b[39m'\u001b[39m\u001b[39mstr\u001b[39m\u001b[39m'\u001b[39m, response\u001b[39m.\u001b[39mheaders\u001b[39m.\u001b[39mget(\u001b[39m'\u001b[39m\u001b[39mOperation-Location\u001b[39m\u001b[39m'\u001b[39m))\n",
      "\u001b[1;31mHttpResponseError\u001b[0m: (InvalidRequest) Invalid request.\nCode: InvalidRequest\nMessage: Invalid request.\nInner error: {\n    \"code\": \"InvalidManagedIdentity\",\n    \"message\": \"The managed identity configuration is invalid: Managed identity is not enabled for the current Form Recognizer account.\"\n}"
     ]
    }
   ],
   "source": [
    "\"\"\"\n",
    "This code sample shows Custom Extraction Model operations with the Azure Form Recognizer client library. \n",
    "The async versions of the samples require Python 3.6 or later.\n",
    "\n",
    "To learn more, please visit the documentation - Quickstart: Form Recognizer Python client library SDKs\n",
    "https://docs.microsoft.com/en-us/azure/applied-ai-services/form-recognizer/quickstarts/try-v3-python-sdk\n",
    "\"\"\"\n",
    "\n",
    "from azure.core.credentials import AzureKeyCredential\n",
    "from azure.ai.formrecognizer import DocumentAnalysisClient\n",
    "\n",
    "\"\"\"\n",
    "Remember to remove the key from your code when you're done, and never post it publicly. For production, use\n",
    "secure methods to store and access your credentials. For more information, see \n",
    "https://docs.microsoft.com/en-us/azure/cognitive-services/cognitive-services-security?tabs=command-line%2Ccsharp#environment-variables-and-application-configuration\n",
    "\"\"\"\n",
    "endpoint = \"YOUR_FORM_RECOGNIZER_ENDPOINT\"\n",
    "key = \"YOUR_FORM_RECOGNIZER_KEY\"\n",
    "\n",
    "model_id = \"YOUR_CUSTOM_BUILT_MODEL_ID\"\n",
    "formUrl = \"YOUR_DOCUMENT\"\n",
    "\n",
    "document_analysis_client = DocumentAnalysisClient(\n",
    "    endpoint=endpoint, credential=AzureKeyCredential(key)\n",
    ")\n",
    "\n",
    "# Make sure your document's type is included in the list of document types the custom model can analyze\n",
    "poller = document_analysis_client.begin_analyze_document_from_url(model_id, formUrl)\n",
    "result = poller.result()\n",
    "\n",
    "for idx, document in enumerate(result.documents):\n",
    "    print(\"--------Analyzing document #{}--------\".format(idx + 1))\n",
    "    print(\"Document has type {}\".format(document.doc_type))\n",
    "    print(\"Document has confidence {}\".format(document.confidence))\n",
    "    print(\"Document was analyzed by model with ID {}\".format(result.model_id))\n",
    "    for name, field in document.fields.items():\n",
    "        field_value = field.value if field.value else field.content\n",
    "        print(\"......found field of type '{}' with value '{}' and with confidence {}\".format(field.value_type, field_value, field.confidence))\n",
    "\n",
    "\n",
    "# iterate over tables, lines, and selection marks on each page\n",
    "for page in result.pages:\n",
    "    print(\"\\nLines found on page {}\".format(page.page_number))\n",
    "    for line in page.lines:\n",
    "        print(\"...Line '{}'\".format(line.content.encode('utf-8')))\n",
    "    for word in page.words:\n",
    "        print(\n",
    "            \"...Word '{}' has a confidence of {}\".format(\n",
    "                word.content.encode('utf-8'), word.confidence\n",
    "            )\n",
    "        )\n",
    "    for selection_mark in page.selection_marks:\n",
    "        print(\n",
    "            \"...Selection mark is '{}' and has a confidence of {}\".format(\n",
    "                selection_mark.state, selection_mark.confidence\n",
    "            )\n",
    "        )\n",
    "\n",
    "for i, table in enumerate(result.tables):\n",
    "    print(\"\\nTable {} can be found on page:\".format(i + 1))\n",
    "    for region in table.bounding_regions:\n",
    "        print(\"...{}\".format(i + 1, region.page_number))\n",
    "    for cell in table.cells:\n",
    "        print(\n",
    "            \"...Cell[{}][{}] has content '{}'\".format(\n",
    "                cell.row_index, cell.column_index, cell.content.encode('utf-8')\n",
    "            )\n",
    "        )\n",
    "print(\"-----------------------------------\")\n"
   ]
  },
  {
   "cell_type": "code",
   "execution_count": null,
   "metadata": {},
   "outputs": [],
   "source": []
  }
 ],
 "metadata": {
  "kernelspec": {
   "display_name": "Python 3",
   "language": "python",
   "name": "python3"
  },
  "language_info": {
   "codemirror_mode": {
    "name": "ipython",
    "version": 3
   },
   "file_extension": ".py",
   "mimetype": "text/x-python",
   "name": "python",
   "nbconvert_exporter": "python",
   "pygments_lexer": "ipython3",
   "version": "3.9.13"
  }
 },
 "nbformat": 4,
 "nbformat_minor": 2
}
